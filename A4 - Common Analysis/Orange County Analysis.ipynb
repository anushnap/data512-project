{
 "cells": [
  {
   "cell_type": "markdown",
   "metadata": {},
   "source": [
    "# A4 - Common Analysis  \n",
    "\n",
    "During the last two years we all have been experiencing a global pandemic. This has been tragic and disruptive to many countries and has taken a deep personal toll on many individuals and their families.  \n",
    "One aspect that has been hard to miss in the last two years is the datafication of the pandemic. That is, many aspects of the individual toll of the pandemic have been collected, aggregated and re-represented as data. This datafication gives us the privilege to examine the pandemic from potentially many different perspectives to understand how it has changed lives and how it has changed society. To be honest, we are actually at the very beginning of understanding and comprehending these impacts.  \n",
    "During our Course Project we are going to begin taking a look at some of the social aspects of the pandemic by conducting a human centered data science analysis of some available COVID-19 data. In this Assignment A4: Common Analysis, every student in the course will work from the same datasets. Students will be assigned to analyze data for one specific County of the United States.\n",
    "\n",
    "## Step 0 - Data Acquisition\n",
    "The common analysis research question will require several different datasets. You will need:  \n",
    "- The RAW_us_confirmed_cases.csv file from the [Kaggle repository of John Hopkins University COVID-19 data.](https://www.kaggle.com/antgoldbloom/covid19-data-from-john-hopkins-university?select=RAW_us_confirmed_cases.csv)  \n",
    "- The [CDC dataset](https://data.cdc.gov/Policy-Surveillance/U-S-State-and-Territorial-Public-Mask-Mandates-Fro/62d6-pm5i) of masking mandates by county.  \n",
    "- The New York Times mask compliance [survey data.](https://github.com/nytimes/covid-19-data/tree/master/mask-use)  \n",
    "\n",
    "The majority of this data is by US County by Day. The mask compliance is a single shot estimator that gives you a compliance estimate for every County in the US. You should carefully review the data descriptions that accompany these datasets. They each have some interesting caveats. As well, some of them are explicit with regard to the way you should interpret missing data.  \n",
    "\n",
    "My assignment:  \n",
    "\n",
    "| County | State | Area_km^2| Area_mi^2 | Population_2020_Census | Population_Increase_from_2010 | County Seat |  \n",
    "| ------ | ----- | -------- | --------- | ---------------------- | ----------------------------- | ----------- |  \n",
    "| Orange | California | 2,047.56 | 790.57 | 3,186,989 | 176,757 | Santa Ana |  "
   ]
  },
  {
   "cell_type": "code",
   "execution_count": 1,
   "metadata": {},
   "outputs": [
    {
     "data": {
      "text/html": [
       "<style>.container { width:60% !important; }</style>"
      ],
      "text/plain": [
       "<IPython.core.display.HTML object>"
      ]
     },
     "metadata": {},
     "output_type": "display_data"
    }
   ],
   "source": [
    "from IPython.core.display import display, HTML\n",
    "display(HTML(\"<style>.container { width:60% !important; }</style>\"))"
   ]
  },
  {
   "cell_type": "code",
   "execution_count": 4,
   "metadata": {},
   "outputs": [],
   "source": [
    "# Set up\n",
    "import os\n",
    "import sys\n",
    "import numpy as np\n",
    "import pandas as pd\n",
    "import matplotlib.pyplot as plt\n",
    "\n",
    "# Show all columns\n",
    "pd.set_option('display.max_columns', None)\n",
    "\n",
    "# Set filepaths\n",
    "RAW_DATA_PATH = '../data_raw/'\n",
    "CLEAN_DATA_PATH = '../data_clean/'"
   ]
  },
  {
   "cell_type": "code",
   "execution_count": 12,
   "metadata": {},
   "outputs": [
    {
     "name": "stdout",
     "output_type": "stream",
     "text": [
      "  Province_State    Admin2       UID iso2 iso3  code3    FIPS Country_Region  \\\n",
      "0        Alabama   Autauga  84001001   US  USA    840  1001.0             US   \n",
      "1        Alabama   Baldwin  84001003   US  USA    840  1003.0             US   \n",
      "2        Alabama   Barbour  84001005   US  USA    840  1005.0             US   \n",
      "3        Alabama      Bibb  84001007   US  USA    840  1007.0             US   \n",
      "4        Alabama    Blount  84001009   US  USA    840  1009.0             US   \n",
      "5        Alabama   Bullock  84001011   US  USA    840  1011.0             US   \n",
      "6        Alabama    Butler  84001013   US  USA    840  1013.0             US   \n",
      "7        Alabama   Calhoun  84001015   US  USA    840  1015.0             US   \n",
      "8        Alabama  Chambers  84001017   US  USA    840  1017.0             US   \n",
      "9        Alabama  Cherokee  84001019   US  USA    840  1019.0             US   \n",
      "\n",
      "         Lat      Long_  ... 10/22/21  10/23/21  10/24/21  10/25/21  10/26/21  \\\n",
      "0  32.539527 -86.644082  ...     9967     10043     10047     10048     10061   \n",
      "1  30.727750 -87.722071  ...    37224     37245     37258     37266     37285   \n",
      "2  31.868263 -85.387129  ...     3575      3577      3578      3578      3583   \n",
      "3  32.996421 -87.125115  ...     4246      4251      4252      4253      4256   \n",
      "4  33.982109 -86.567906  ...    10179     10192     10197     10207     10227   \n",
      "5  32.100305 -85.712655  ...     1516      1516      1517      1517      1518   \n",
      "6  31.753001 -86.680575  ...     3258      3263      3264      3267      3285   \n",
      "7  33.774837 -85.826304  ...    22221     22225     22232     22236     22255   \n",
      "8  32.913601 -85.390727  ...     5607      5607      5610      5612      5615   \n",
      "9  34.178060 -85.606390  ...     3023      3028      3028      3029      3032   \n",
      "\n",
      "   10/27/21  10/28/21  10/29/21  10/30/21  10/31/21  \n",
      "0     10083     10219     10228     10239     10252  \n",
      "1     37325     37350     37372     37398     37414  \n",
      "2      3595      3596      3596      3599      3601  \n",
      "3      4262      4275      4276      4278      4279  \n",
      "4     10338     10364     10371     10395     10406  \n",
      "5      1526      1527      1527      1526      1526  \n",
      "6      3335      3345      3346      3349      3351  \n",
      "7     22295     22310     22326     22341     22348  \n",
      "8      5729      5782      5781      5780      5785  \n",
      "9      3055      3061      3066      3068      3068  \n",
      "\n",
      "[10 rows x 660 columns]\n",
      "  State_Tribe_Territory     County_Name  FIPS_State  FIPS_County       date  \\\n",
      "0                    AL  Autauga County           1            1  4/10/2020   \n",
      "1                    AL  Autauga County           1            1  4/11/2020   \n",
      "2                    AL  Autauga County           1            1  4/12/2020   \n",
      "3                    AL  Autauga County           1            1  4/13/2020   \n",
      "4                    AL  Autauga County           1            1  4/14/2020   \n",
      "5                    AL  Autauga County           1            1  4/15/2020   \n",
      "6                    AL  Autauga County           1            1  4/16/2020   \n",
      "7                    AL  Autauga County           1            1  4/17/2020   \n",
      "8                    AL  Autauga County           1            1  4/18/2020   \n",
      "9                    AL  Autauga County           1            1  4/19/2020   \n",
      "\n",
      "   order_code Face_Masks_Required_in_Public Source_of_Action  URL Citation  \n",
      "0           2                           NaN              NaN  NaN      NaN  \n",
      "1           2                           NaN              NaN  NaN      NaN  \n",
      "2           2                           NaN              NaN  NaN      NaN  \n",
      "3           2                           NaN              NaN  NaN      NaN  \n",
      "4           2                           NaN              NaN  NaN      NaN  \n",
      "5           2                           NaN              NaN  NaN      NaN  \n",
      "6           2                           NaN              NaN  NaN      NaN  \n",
      "7           2                           NaN              NaN  NaN      NaN  \n",
      "8           2                           NaN              NaN  NaN      NaN  \n",
      "9           2                           NaN              NaN  NaN      NaN  \n",
      "   COUNTYFP  NEVER  RARELY  SOMETIMES  FREQUENTLY  ALWAYS\n",
      "0      1001  0.053   0.074      0.134       0.295   0.444\n",
      "1      1003  0.083   0.059      0.098       0.323   0.436\n",
      "2      1005  0.067   0.121      0.120       0.201   0.491\n",
      "3      1007  0.020   0.034      0.096       0.278   0.572\n",
      "4      1009  0.053   0.114      0.180       0.194   0.459\n",
      "5      1011  0.031   0.040      0.144       0.286   0.500\n",
      "6      1013  0.102   0.053      0.257       0.137   0.451\n",
      "7      1015  0.152   0.108      0.130       0.167   0.442\n",
      "8      1017  0.117   0.037      0.150       0.136   0.560\n",
      "9      1019  0.135   0.027      0.161       0.158   0.520\n"
     ]
    }
   ],
   "source": [
    "# Import data\n",
    "cases_raw = pd.read_csv(RAW_DATA_PATH + 'RAW_us_confirmed_cases.csv/RAW_us_confirmed_cases.csv')\n",
    "mandates_raw = pd.read_csv(RAW_DATA_PATH + 'U.S._State_and_Territorial_Public_Mask_Mandates_From_April_10__2020_through_August_15__2021_by_County_by_Day.csv')\n",
    "masks_raw = pd.read_csv('https://raw.githubusercontent.com/nytimes/covid-19-data/master/mask-use/mask-use-by-county.csv')\n",
    "print(cases_raw.head(10))\n",
    "print(mandates_raw.head(10))\n",
    "print(masks_raw.head(10))"
   ]
  },
  {
   "cell_type": "markdown",
   "metadata": {},
   "source": [
    "- FIPS is the key for each unique county. It is stored as 1 number in the `cases_raw` dataset but two values in the `mandate_raw` data set. When `FIPS_State` is single-digit then 0 is appended to the end before concatenating with `FIPS_County`. If `FIPS_County` is single digit as well, then 0 is appended to the beginning. Ex: Alabama Autauga County has state FIP 1 and county FIP 1, so it becomes 1001 for the combined FIP.\n",
    "- For time-series analysis each date should be in one column, with the value in another. Long vs. wide data.  "
   ]
  },
  {
   "cell_type": "code",
   "execution_count": 74,
   "metadata": {},
   "outputs": [
    {
     "name": "stdout",
     "output_type": "stream",
     "text": [
      "6059.0\n"
     ]
    }
   ],
   "source": [
    "# identify Orange County, CA FIPs code\n",
    "fip = cases_raw.loc[(cases_raw['Province_State'] == 'California') & (cases_raw['Admin2'] == 'Orange'), 'FIPS'].values[0]\n",
    "# print(fip)\n",
    "\n",
    "# Create new combined FIPS column for mandates data set.\n",
    "# If state code is single digit, then adds trailing 0\n",
    "mandates_raw['FIPS'] = mandates_raw['FIPS_County'] + mandates_raw['FIPS_State'].apply(lambda x: x * 100 if x > 9 else x * 1000)\n",
    "\n",
    "# Convert mandates_raw column into datetime\n",
    "mandates = mandates_raw.copy()\n",
    "mandates['date'] = pd.to_datetime(mandates['date'], format = '%m/%d/%Y')"
   ]
  },
  {
   "cell_type": "code",
   "execution_count": null,
   "metadata": {},
   "outputs": [],
   "source": [
    "# Create combined data set\n",
    "covid_df = cases"
   ]
  }
 ],
 "metadata": {
  "kernelspec": {
   "display_name": "Python 3",
   "language": "python",
   "name": "python3"
  },
  "language_info": {
   "codemirror_mode": {
    "name": "ipython",
    "version": 3
   },
   "file_extension": ".py",
   "mimetype": "text/x-python",
   "name": "python",
   "nbconvert_exporter": "python",
   "pygments_lexer": "ipython3",
   "version": "3.8.5"
  }
 },
 "nbformat": 4,
 "nbformat_minor": 4
}
