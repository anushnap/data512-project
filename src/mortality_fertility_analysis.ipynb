{
 "cells": [
  {
   "cell_type": "markdown",
   "metadata": {},
   "source": [
    "# COVID-19 Effect on Mortality and Fertility in Orange County, California\n",
    "\n",
    "### Motivation  \n",
    "The datafication of the pandemic has allowed the public access to more health-related data at a granular level than ever before. The county that I was assigned, Orange County, California,  had quite a high number of cases given the high population of the county. The lockdowns and mask mandates enforced did prevent people from leaving their homes and the spread of other diseases like the flu, and likely even other kinds of death. However, at the same time, with hospitals being overloaded and sometimes even needing to turn away patients, I wonder how many deaths there were in excess of what is typical to see in Orange County as this may provide evidence that there were actually more COVID-related deaths than is officially being reported, since the healthcare industry may not want to use tests on already deceased persons. Essentially, this question will help answer if we can be certain that there were more deaths due to the pandemic than what the “official” count may suggest, or if the pandemic reduced other causes of death such as from accidents.  \n",
    "\n",
    "Another angle here is that COVID added a lot of uncertainty to the world. This had many adverse effects on people’s lives, and I am curious to see how this affected fertility. Perhaps during these stressful times, fewer people were confident in the future and their ability to support a child, or perhaps quarantine gave people the opportunity to move forward with their family planning because of the flexibility that working from home provided. I would like to inspect the pandemic and its effects on the lives of people in Orange County, CA from the angle of effect on mortality and fertility.  \n",
    "\n",
    "### Hypothesis  \n",
    "My hypothesis related to mortality is that all-cause mortality was higher during the pandemic than pre-pandemic, indicating that there were more deaths due to COVID-19 than were being reported. My hypothesis relating to fertility is that there were fewer births during the pandemic compared to pre-pandemic due to the stress and uncertainty it caused.  \n",
    "\n",
    "### Data  \n",
    "- The RAW_us_confirmed_cases.csv file from the [Kaggle repository of John Hopkins University COVID-19 data.](https://www.kaggle.com/antgoldbloom/covid19-data-from-john-hopkins-university?select=RAW_us_confirmed_cases.csv)  \n",
    "- The RAW_us_deaths.csv file from the [Kaggle repository of John Hopkins University COVID-19 data.](https://www.kaggle.com/antgoldbloom/covid19-data-from-john-hopkins-university?select=RAW_us_deaths.csv)  \n",
    "- Deaths from [California Health & Human Services Department](https://data.chhs.ca.gov/dataset/death-profiles-by-county/resource/2e546f88-bba8-4d77-846a-7fb77846cac6)  \n",
    "- Births from [California Health & Human Services Department](https://data.chhs.ca.gov/dataset/live-birth-profiles-by-county/resource/94a186da-7184-427b-b0b5-224bb0a05cd8)"
   ]
  },
  {
   "cell_type": "code",
   "execution_count": 1,
   "metadata": {},
   "outputs": [],
   "source": [
    "# Set up file\n",
    "# from IPython.core.display import display, HTML\n",
    "# display(HTML(\"<style>.container { width:60% !important; }</style>\"))\n",
    "\n",
    "# Import libraries\n",
    "import os\n",
    "import numpy as np\n",
    "import pandas as pd\n",
    "import matplotlib.pyplot as plt\n",
    "import statsmodels.api as sm\n",
    "\n",
    "# Show all columns\n",
    "pd.set_option('display.max_columns', None)\n",
    "\n",
    "# Set filepaths\n",
    "RAW_DATA_PATH = '../data_raw/'\n",
    "CLEAN_DATA_PATH = '../data_clean/'\n",
    "RESULTS_PATH = '../results/'"
   ]
  },
  {
   "cell_type": "markdown",
   "metadata": {},
   "source": [
    "## Import COVID-19 Data from Johns Hopkins  \n",
    "Import the data, pre-downloaded from the Johns Hopkins Kaggle page, and prepare it to be joined with the CHHS data. This means:  \n",
    "- Create a datetime index on the 'date' columns\n",
    "- Filter out unnecessary columns like `Lat`, `Long_`, etc. and only keep the necessary columns for analysis: `Province_State`, `Admin2`, `date`, and `cases` or `covid_deaths`.\n",
    "- Join these data sets together on the `FIPS` and `date` column.\n",
    "- Filter on just the data from Orange County, California\n",
    "- Aggregate the data from daily to monthly"
   ]
  },
  {
   "cell_type": "code",
   "execution_count": 2,
   "metadata": {},
   "outputs": [
    {
     "name": "stdout",
     "output_type": "stream",
     "text": [
      "Orange County FIP:  6059.0\n",
      "Index(['Province_State', 'Admin2', 'FIPS', 'date', 'cum_cases'], dtype='object')\n",
      "Index(['FIPS', 'Population', 'date', 'cum_covid_deaths'], dtype='object')\n"
     ]
    }
   ],
   "source": [
    "# Import data assuming we are in src folder\n",
    "cases_raw = pd.read_csv(os.path.join(RAW_DATA_PATH, 'RAW_us_confirmed_cases.csv/RAW_us_confirmed_cases.csv'))\n",
    "covid_deaths_raw = pd.read_csv(os.path.join(RAW_DATA_PATH, 'RAW_us_deaths.csv'))\n",
    "\n",
    "# identify Orange County, CA FIPs code\n",
    "fip = cases_raw.loc[(cases_raw['Province_State'] == 'California') & (cases_raw['Admin2'] == 'Orange'), 'FIPS'].values[0]\n",
    "print(\"Orange County FIP: \", str(fip))\n",
    "\n",
    "# Pivot cases and deaths data to long format\n",
    "cases = pd.melt(cases_raw, id_vars = cases_raw.columns[0:11], var_name = 'date', value_name = 'cum_cases')\n",
    "cases['date'] = pd.to_datetime(cases['date'], format = '%m/%d/%y')\n",
    "cases = cases.loc[:, ['Province_State', 'Admin2', 'FIPS', 'date', 'cum_cases']]\n",
    "covid_deaths = pd.melt(covid_deaths_raw, id_vars = covid_deaths_raw.columns[0:12], var_name = 'date', value_name = 'cum_covid_deaths')\n",
    "covid_deaths['date'] = pd.to_datetime(covid_deaths['date'], format = '%m/%d/%y')\n",
    "# Drop common columns from covid_deaths\n",
    "covid_deaths = covid_deaths.loc[:, ['FIPS', 'Population', 'date', 'cum_covid_deaths']]\n",
    "\n",
    "# Print column names\n",
    "print(cases.columns)\n",
    "print(covid_deaths.columns)"
   ]
  },
  {
   "cell_type": "code",
   "execution_count": 3,
   "metadata": {},
   "outputs": [],
   "source": [
    "# Combine cases and deaths into one df\n",
    "covid_df = cases.merge(covid_deaths, how = 'outer', on = ['FIPS', 'date'])\n",
    "covid_df.to_csv(os.path.join(CLEAN_DATA_PATH, 'us_covid_cases-deaths.csv'), index = False)\n",
    "covid_df.set_index('date', inplace = True)"
   ]
  },
  {
   "cell_type": "code",
   "execution_count": 4,
   "metadata": {},
   "outputs": [
    {
     "data": {
      "text/html": [
       "<div>\n",
       "<style scoped>\n",
       "    .dataframe tbody tr th:only-of-type {\n",
       "        vertical-align: middle;\n",
       "    }\n",
       "\n",
       "    .dataframe tbody tr th {\n",
       "        vertical-align: top;\n",
       "    }\n",
       "\n",
       "    .dataframe thead th {\n",
       "        text-align: right;\n",
       "    }\n",
       "</style>\n",
       "<table border=\"1\" class=\"dataframe\">\n",
       "  <thead>\n",
       "    <tr style=\"text-align: right;\">\n",
       "      <th></th>\n",
       "      <th>date</th>\n",
       "      <th>FIPS</th>\n",
       "      <th>Province_State</th>\n",
       "      <th>Admin2</th>\n",
       "      <th>cases</th>\n",
       "      <th>covid_deaths</th>\n",
       "    </tr>\n",
       "  </thead>\n",
       "  <tbody>\n",
       "    <tr>\n",
       "      <th>0</th>\n",
       "      <td>2020-01-01</td>\n",
       "      <td>6059.0</td>\n",
       "      <td>California</td>\n",
       "      <td>Orange</td>\n",
       "      <td>1.0</td>\n",
       "      <td>0.0</td>\n",
       "    </tr>\n",
       "    <tr>\n",
       "      <th>1</th>\n",
       "      <td>2020-02-01</td>\n",
       "      <td>6059.0</td>\n",
       "      <td>California</td>\n",
       "      <td>Orange</td>\n",
       "      <td>0.0</td>\n",
       "      <td>0.0</td>\n",
       "    </tr>\n",
       "    <tr>\n",
       "      <th>2</th>\n",
       "      <td>2020-03-01</td>\n",
       "      <td>6059.0</td>\n",
       "      <td>California</td>\n",
       "      <td>Orange</td>\n",
       "      <td>501.0</td>\n",
       "      <td>7.0</td>\n",
       "    </tr>\n",
       "    <tr>\n",
       "      <th>3</th>\n",
       "      <td>2020-04-01</td>\n",
       "      <td>6059.0</td>\n",
       "      <td>California</td>\n",
       "      <td>Orange</td>\n",
       "      <td>2438.0</td>\n",
       "      <td>38.0</td>\n",
       "    </tr>\n",
       "    <tr>\n",
       "      <th>4</th>\n",
       "      <td>2020-05-01</td>\n",
       "      <td>6059.0</td>\n",
       "      <td>California</td>\n",
       "      <td>Orange</td>\n",
       "      <td>4289.0</td>\n",
       "      <td>102.0</td>\n",
       "    </tr>\n",
       "    <tr>\n",
       "      <th>5</th>\n",
       "      <td>2020-06-01</td>\n",
       "      <td>6059.0</td>\n",
       "      <td>California</td>\n",
       "      <td>Orange</td>\n",
       "      <td>14830.0</td>\n",
       "      <td>193.0</td>\n",
       "    </tr>\n",
       "    <tr>\n",
       "      <th>6</th>\n",
       "      <td>2020-07-01</td>\n",
       "      <td>6059.0</td>\n",
       "      <td>California</td>\n",
       "      <td>Orange</td>\n",
       "      <td>20787.0</td>\n",
       "      <td>278.0</td>\n",
       "    </tr>\n",
       "    <tr>\n",
       "      <th>7</th>\n",
       "      <td>2020-08-01</td>\n",
       "      <td>6059.0</td>\n",
       "      <td>California</td>\n",
       "      <td>Orange</td>\n",
       "      <td>7789.0</td>\n",
       "      <td>362.0</td>\n",
       "    </tr>\n",
       "    <tr>\n",
       "      <th>8</th>\n",
       "      <td>2020-09-01</td>\n",
       "      <td>6059.0</td>\n",
       "      <td>California</td>\n",
       "      <td>Orange</td>\n",
       "      <td>5711.0</td>\n",
       "      <td>288.0</td>\n",
       "    </tr>\n",
       "    <tr>\n",
       "      <th>9</th>\n",
       "      <td>2020-10-01</td>\n",
       "      <td>6059.0</td>\n",
       "      <td>California</td>\n",
       "      <td>Orange</td>\n",
       "      <td>6851.0</td>\n",
       "      <td>215.0</td>\n",
       "    </tr>\n",
       "    <tr>\n",
       "      <th>10</th>\n",
       "      <td>2020-11-01</td>\n",
       "      <td>6059.0</td>\n",
       "      <td>California</td>\n",
       "      <td>Orange</td>\n",
       "      <td>24755.0</td>\n",
       "      <td>94.0</td>\n",
       "    </tr>\n",
       "    <tr>\n",
       "      <th>11</th>\n",
       "      <td>2020-12-01</td>\n",
       "      <td>6059.0</td>\n",
       "      <td>California</td>\n",
       "      <td>Orange</td>\n",
       "      <td>94732.0</td>\n",
       "      <td>298.0</td>\n",
       "    </tr>\n",
       "    <tr>\n",
       "      <th>12</th>\n",
       "      <td>2021-01-01</td>\n",
       "      <td>6059.0</td>\n",
       "      <td>California</td>\n",
       "      <td>Orange</td>\n",
       "      <td>63294.0</td>\n",
       "      <td>1187.0</td>\n",
       "    </tr>\n",
       "    <tr>\n",
       "      <th>13</th>\n",
       "      <td>2021-02-01</td>\n",
       "      <td>6059.0</td>\n",
       "      <td>California</td>\n",
       "      <td>Orange</td>\n",
       "      <td>15242.0</td>\n",
       "      <td>855.0</td>\n",
       "    </tr>\n",
       "    <tr>\n",
       "      <th>14</th>\n",
       "      <td>2021-03-01</td>\n",
       "      <td>6059.0</td>\n",
       "      <td>California</td>\n",
       "      <td>Orange</td>\n",
       "      <td>5013.0</td>\n",
       "      <td>827.0</td>\n",
       "    </tr>\n",
       "    <tr>\n",
       "      <th>15</th>\n",
       "      <td>2021-04-01</td>\n",
       "      <td>6059.0</td>\n",
       "      <td>California</td>\n",
       "      <td>Orange</td>\n",
       "      <td>3868.0</td>\n",
       "      <td>213.0</td>\n",
       "    </tr>\n",
       "    <tr>\n",
       "      <th>16</th>\n",
       "      <td>2021-05-01</td>\n",
       "      <td>6059.0</td>\n",
       "      <td>California</td>\n",
       "      <td>Orange</td>\n",
       "      <td>1993.0</td>\n",
       "      <td>108.0</td>\n",
       "    </tr>\n",
       "    <tr>\n",
       "      <th>17</th>\n",
       "      <td>2021-06-01</td>\n",
       "      <td>6059.0</td>\n",
       "      <td>California</td>\n",
       "      <td>Orange</td>\n",
       "      <td>1467.0</td>\n",
       "      <td>59.0</td>\n",
       "    </tr>\n",
       "    <tr>\n",
       "      <th>18</th>\n",
       "      <td>2021-07-01</td>\n",
       "      <td>6059.0</td>\n",
       "      <td>California</td>\n",
       "      <td>Orange</td>\n",
       "      <td>8865.0</td>\n",
       "      <td>20.0</td>\n",
       "    </tr>\n",
       "    <tr>\n",
       "      <th>19</th>\n",
       "      <td>2021-08-01</td>\n",
       "      <td>6059.0</td>\n",
       "      <td>California</td>\n",
       "      <td>Orange</td>\n",
       "      <td>22984.0</td>\n",
       "      <td>81.0</td>\n",
       "    </tr>\n",
       "    <tr>\n",
       "      <th>20</th>\n",
       "      <td>2021-09-01</td>\n",
       "      <td>6059.0</td>\n",
       "      <td>California</td>\n",
       "      <td>Orange</td>\n",
       "      <td>13722.0</td>\n",
       "      <td>207.0</td>\n",
       "    </tr>\n",
       "    <tr>\n",
       "      <th>21</th>\n",
       "      <td>2021-10-01</td>\n",
       "      <td>6059.0</td>\n",
       "      <td>California</td>\n",
       "      <td>Orange</td>\n",
       "      <td>7114.0</td>\n",
       "      <td>163.0</td>\n",
       "    </tr>\n",
       "  </tbody>\n",
       "</table>\n",
       "</div>"
      ],
      "text/plain": [
       "         date    FIPS Province_State  Admin2    cases  covid_deaths\n",
       "0  2020-01-01  6059.0     California  Orange      1.0           0.0\n",
       "1  2020-02-01  6059.0     California  Orange      0.0           0.0\n",
       "2  2020-03-01  6059.0     California  Orange    501.0           7.0\n",
       "3  2020-04-01  6059.0     California  Orange   2438.0          38.0\n",
       "4  2020-05-01  6059.0     California  Orange   4289.0         102.0\n",
       "5  2020-06-01  6059.0     California  Orange  14830.0         193.0\n",
       "6  2020-07-01  6059.0     California  Orange  20787.0         278.0\n",
       "7  2020-08-01  6059.0     California  Orange   7789.0         362.0\n",
       "8  2020-09-01  6059.0     California  Orange   5711.0         288.0\n",
       "9  2020-10-01  6059.0     California  Orange   6851.0         215.0\n",
       "10 2020-11-01  6059.0     California  Orange  24755.0          94.0\n",
       "11 2020-12-01  6059.0     California  Orange  94732.0         298.0\n",
       "12 2021-01-01  6059.0     California  Orange  63294.0        1187.0\n",
       "13 2021-02-01  6059.0     California  Orange  15242.0         855.0\n",
       "14 2021-03-01  6059.0     California  Orange   5013.0         827.0\n",
       "15 2021-04-01  6059.0     California  Orange   3868.0         213.0\n",
       "16 2021-05-01  6059.0     California  Orange   1993.0         108.0\n",
       "17 2021-06-01  6059.0     California  Orange   1467.0          59.0\n",
       "18 2021-07-01  6059.0     California  Orange   8865.0          20.0\n",
       "19 2021-08-01  6059.0     California  Orange  22984.0          81.0\n",
       "20 2021-09-01  6059.0     California  Orange  13722.0         207.0\n",
       "21 2021-10-01  6059.0     California  Orange   7114.0         163.0"
      ]
     },
     "execution_count": 4,
     "metadata": {},
     "output_type": "execute_result"
    }
   ],
   "source": [
    "# Aggregate data to monthly level instead of daily level to match granularity from CHHS data\n",
    "# Get just Orange County data\n",
    "covid = covid_df.loc[covid_df['FIPS'] == fip, ]\\\n",
    "    .sort_values(by = ['date'])\n",
    "# Get daily new cases and deaths\n",
    "covid['cases'] = covid['cum_cases'].diff(periods = 1)\n",
    "covid['covid_deaths'] = covid['cum_covid_deaths'].diff(periods = 1)\n",
    "covid = covid.groupby([pd.Grouper(freq='MS'), 'FIPS', 'Province_State', 'Admin2'])\\\n",
    "    .agg({'cases': np.sum, 'covid_deaths': np.sum})\\\n",
    "    .reset_index()\n",
    "covid"
   ]
  },
  {
   "cell_type": "markdown",
   "metadata": {},
   "source": [
    "## Import data from California's Department of Health & Human Services  \n",
    "\n",
    "### Deaths\n",
    "Import the data, extract the necessary types of deaths and strata, and create a date column to prepare it for merging with Johns Hopkins' data:  \n",
    "- Union the disparate data sets to have one dataset with all data\n",
    "- Drop unnecessary columns `Geography_Type`, `Strata`, `Strata_Name`, `Data_Extract_Date`, `Annotation_Code`, `Annotation_Desc`, `Cause`\n",
    "- Keep only `Total Population` strata, and filter to just all cause death, injuries, and suicides. Since COVID data is not stratified, we cannot use the stratified CHHS data.\n",
    "- Pivot the data to have a separate column for each kind of cause of death"
   ]
  },
  {
   "cell_type": "code",
   "execution_count": null,
   "metadata": {},
   "outputs": [],
   "source": [
    "# Get data from CHHS of deaths and drop extract date column\n",
    "deaths_2021 = pd.read_csv('https://data.chhs.ca.gov/dataset/58619b69-b3cb-41a7-8bfc-fc3a524a9dd4/resource/2e546f88-bba8-4d77-846a-7fb77846cac6/download/2021-11_deaths_provisional_county_month_sup.csv')\n",
    "deaths_19_20 = pd.read_csv('https://data.chhs.ca.gov/dataset/58619b69-b3cb-41a7-8bfc-fc3a524a9dd4/resource/078185a9-e3a7-403f-a546-b8c582f0a9d8/download/2021-11-29_deaths_final_2019-2020_occurrence_county_month_sup.csv')\n",
    "deaths_14_18 = pd.read_csv('https://data.chhs.ca.gov/dataset/58619b69-b3cb-41a7-8bfc-fc3a524a9dd4/resource/1a69fe2d-9796-49de-be51-1949d09b242a/download/2021-11-29_deaths_final_2014-2018_occurrence_county_month_sup.csv')\n",
    "deaths_chhs = pd.concat([deaths_2021, deaths_19_20, deaths_14_18], join = 'outer')\n",
    "\n",
    "# Drop useless columns\n",
    "# Filter strata for \"Total Population\"\n",
    "# Filter for Orange County\n",
    "# Filter for All causes (total), Accidents (unintentional injuries), Intentional self-harm (suicide)\n",
    "deaths_chhs = deaths_chhs.loc[(deaths_chhs['Strata'] == 'Total Population') & \n",
    "                              (deaths_chhs['County'] == 'Orange') & \n",
    "                              (deaths_chhs['Cause'].isin(['ALL', 'INJ', 'SUI'])), ]\\\n",
    "    .drop(['Geography_Type', 'Strata', 'Strata_Name', 'Data_Extract_Date', 'Annotation_Code', 'Annotation_Desc', 'Cause'], axis = 1)"
   ]
  },
  {
   "cell_type": "code",
   "execution_count": null,
   "metadata": {},
   "outputs": [],
   "source": [
    "# Create new date column to join on\n",
    "deaths_chhs['date'] = pd.to_datetime(deaths_chhs['Year'].astype(str) + '/' + deaths_chhs['Month'].astype(str) + '/01',\n",
    "                                   format = '%Y/%m/%d')\n",
    "deaths_chhs.drop(['Year', 'Month'], axis = 1, inplace = True)\n",
    "\n",
    "# Pivot the data from long to wide\n",
    "deaths_chhs = deaths_chhs.pivot(index = ['County', 'date'], columns = 'Cause_Desc', values = 'Count').reset_index()\n",
    "deaths_chhs"
   ]
  },
  {
   "cell_type": "markdown",
   "metadata": {},
   "source": [
    "### Births  "
   ]
  },
  {
   "cell_type": "code",
   "execution_count": null,
   "metadata": {},
   "outputs": [],
   "source": [
    "births_21 = pd.read_csv('https://data.chhs.ca.gov/dataset/bc59b3db-3936-4c9b-9275-c5f4b3dc9023/resource/94a186da-7184-427b-b0b5-224bb0a05cd8/download/2021-11_births_provisional_county_month_sup.csv')\n",
    "births_60 = pd.read_csv('https://data.chhs.ca.gov/dataset/bc59b3db-3936-4c9b-9275-c5f4b3dc9023/resource/d6c30e46-8618-407a-ba5a-bae308f86a1c/download/2021-10-18_births_final_county_month_sup.csv')\n",
    "births_chhs = pd.concat([births_21, births_60], join = 'outer')"
   ]
  },
  {
   "cell_type": "code",
   "execution_count": null,
   "metadata": {},
   "outputs": [],
   "source": [
    "# Drop useless columns\n",
    "# Filter strata for \"Total Population\"\n",
    "# Filter for Orange County\n",
    "# Filter for All causes (total), Accidents (unintentional injuries), Intentional self-harm (suicide)\n",
    "births_chhs = births_chhs.loc[(births_chhs['Strata'] == 'Total Population') & \n",
    "                              (births_chhs['County'] == 'Orange') & \n",
    "                              (births_chhs['Geography_Type'] == 'Occurrence') & \n",
    "                              (births_chhs['Year'] > 2013), ]\\\n",
    "    .drop(['Geography_Type', 'Strata', 'Strata_Name', 'Data_Extract_Date', 'Annotation_Code', 'Annotation_Desc', ], axis = 1)"
   ]
  },
  {
   "cell_type": "code",
   "execution_count": null,
   "metadata": {},
   "outputs": [],
   "source": [
    "# Create new date column to join on\n",
    "births_chhs['date'] = pd.to_datetime(births_chhs['Year'].astype(str) + '/' + births_chhs['Month'].astype(str) + '/01',\n",
    "                                   format = '%Y/%m/%d')\n",
    "births_chhs.drop(['Year', 'Month'], axis = 1, inplace = True)\n",
    "births_chhs.rename({'Count': 'births'}, axis = 1, inplace = True)\n",
    "births_chhs"
   ]
  },
  {
   "cell_type": "markdown",
   "metadata": {},
   "source": [
    "## Merge Data  \n",
    "Merge the three data sets together, clean up the column names, and add information for analysis.  \n",
    "- Truncate accidents and suicides data to June 2021 due to data issues"
   ]
  },
  {
   "cell_type": "code",
   "execution_count": null,
   "metadata": {},
   "outputs": [],
   "source": [
    "TRUNC_DATE = '2021-06-01'\n",
    "\n",
    "oc_df = deaths_chhs.merge(births_chhs, how = 'inner', on = ['County', 'date'])\\\n",
    "    .merge(covid[['date', 'cases', 'covid_deaths']], how = 'left', on = ['date'])\\\n",
    "    .rename({'Accidents (unintentional injuries)': 'accidents',\n",
    "             'All causes (total)': 'total_deaths',\n",
    "             'Intentional self-harm (suicide)': 'suicide'},\n",
    "            axis = 1)\\\n",
    "    .drop(['County'], axis = 1)\n",
    "oc_df['pandemic'] = oc_df['date'] >= '2020-03-01'\n",
    "oc_df['non_covid_deaths'] = np.where(oc_df['covid_deaths'].isna(), oc_df['total_deaths'], oc_df['total_deaths'] - oc_df['covid_deaths'])\n",
    "oc_df['accidents'] = np.where(oc_df['date'] > TRUNC_DATE, np.nan, oc_df['accidents'])\n",
    "oc_df['suicide'] = np.where(oc_df['date'] > TRUNC_DATE, np.nan, oc_df['suicide'])\n",
    "# TODO: ADD NON-COVID DEATHS\n",
    "oc_df.to_csv(os.path.join(CLEAN_DATA_PATH, 'oc_cases-births-deaths.csv'), index = False)\n",
    "oc_df"
   ]
  },
  {
   "cell_type": "code",
   "execution_count": null,
   "metadata": {},
   "outputs": [],
   "source": [
    "oc_df.loc[oc_df['date'] > '2021-01-01', ['date', 'accidents', 'suicide']]"
   ]
  },
  {
   "cell_type": "code",
   "execution_count": null,
   "metadata": {},
   "outputs": [],
   "source": [
    "fig = plt.figure(figsize = (20, 10))\n",
    "plt.plot(oc_df['date'], oc_df['births'], label = 'Births', c = 'darkolivegreen', linewidth = 2)\n",
    "plt.plot(oc_df['date'], oc_df['total_deaths'], label = 'Deaths', c = 'indianred', linewidth = 2)\n",
    "plt.axvline(x=pd.to_datetime('2020/03/01', format='%Y/%m/%d'), c = 'slategray', linestyle = '--', label = 'Pandemic starts')\n",
    "plt.xlabel('Date (by month)', fontsize = 12)\n",
    "plt.ylabel('Count', fontsize = 12)\n",
    "plt.title('Orange County, California:\\nMonthly Births and Deaths', fontsize = 20)\n",
    "plt.legend(fontsize = 15)\n",
    "\n",
    "# Save figure into the results folder\n",
    "plt.savefig(os.path.join(RESULTS_PATH, 'oc_unadjusted_fertility-all-deaths.jpg'))"
   ]
  },
  {
   "cell_type": "code",
   "execution_count": null,
   "metadata": {},
   "outputs": [],
   "source": [
    "fig = plt.figure(figsize = (20, 10))\n",
    "plt.plot(oc_df['date'], oc_df['births'], label = 'Births', c = 'darkolivegreen', linewidth = 2)\n",
    "plt.plot(oc_df['date'], oc_df['non_covid_deaths'], label = 'Non-COVID Deaths', c = 'indianred', linewidth = 2)\n",
    "plt.axvline(x=pd.to_datetime('2020/03/01', format='%Y/%m/%d'), c = 'slategray', linestyle = '--', label = 'Pandemic starts')\n",
    "plt.xlabel('Date (by month)', fontsize = 12)\n",
    "plt.ylabel('Count', fontsize = 12)\n",
    "plt.title('Orange County, California:\\nMonthly Births and Non-COVID Deaths', fontsize = 20)\n",
    "plt.legend(fontsize = 15)\n",
    "\n",
    "# Save figure into the results folder\n",
    "plt.savefig(os.path.join(RESULTS_PATH, 'oc_unadjusted_fertility-non-covid-deaths.jpg'))"
   ]
  },
  {
   "cell_type": "code",
   "execution_count": null,
   "metadata": {},
   "outputs": [],
   "source": [
    "fig = plt.figure(figsize = (20, 10))\n",
    "plt.plot(oc_df['date'], oc_df['accidents'], label = 'Accidents', c = 'steelblue', linewidth = 2)\n",
    "plt.plot(oc_df['date'], oc_df['suicide'], label = 'Suicides', c = 'chocolate', linewidth = 2)\n",
    "plt.axvline(x=pd.to_datetime('2020/03/01', format='%Y/%m/%d'), c = 'slategray', linestyle = '--', label = 'Pandemic starts')\n",
    "plt.xlabel('Date (by month)', fontsize = 12)\n",
    "plt.ylabel('Count', fontsize = 12)\n",
    "plt.title('Orange County, California:\\nDeaths by Cause', fontsize = 20)\n",
    "plt.legend(fontsize = 15)\n",
    "\n",
    "# Save figure into the results folder\n",
    "plt.savefig(os.path.join(RESULTS_PATH, 'oc_accidents-suicides.jpg'))"
   ]
  },
  {
   "cell_type": "markdown",
   "metadata": {},
   "source": [
    "## Seasonally adjust births and deaths  \n",
    "### Deaths"
   ]
  },
  {
   "cell_type": "code",
   "execution_count": null,
   "metadata": {},
   "outputs": [],
   "source": [
    "# TODO: Seasonal adjustments\n",
    "oc_df.set_index('date', inplace = True)\n",
    "oc_df = oc_df.asfreq('MS')"
   ]
  },
  {
   "cell_type": "code",
   "execution_count": null,
   "metadata": {},
   "outputs": [],
   "source": [
    "sa_deaths = sm.tsa.seasonal_decompose(oc_df.non_covid_deaths, model = 'multiplicative')\n",
    "\n",
    "# Extract the trend and seasonal components\n",
    "deaths_trend = sa_deaths.trend\n",
    "deaths_seasonal = sa_deaths.seasonal\n",
    "\n",
    "# Construct the seasonally adjusted series\n",
    "deaths_adjusted = (oc_df.non_covid_deaths / sa_deaths.seasonal).rename('sa_deaths')"
   ]
  },
  {
   "cell_type": "code",
   "execution_count": null,
   "metadata": {},
   "outputs": [],
   "source": [
    "deaths_seasonal.loc[deaths_seasonal > 0]"
   ]
  },
  {
   "cell_type": "code",
   "execution_count": null,
   "metadata": {},
   "outputs": [],
   "source": [
    "fig = plt.figure(figsize = (20, 10))\n",
    "plt.plot(deaths_adjusted, c = 'steelblue', label = 'Seasonally adjusted', linewidth = 2)\n",
    "plt.plot(oc_df['non_covid_deaths'], c = 'lightblue', label = 'Non-COVID deaths', linewidth = 2, linestyle = '--')\n",
    "plt.title('Seasonal Adjustment of Non-COVID-related Deaths', fontsize = 20)\n",
    "plt.legend(fontsize = 15)\n",
    "\n",
    "# Save figure into the results folder\n",
    "plt.savefig(os.path.join(RESULTS_PATH, 'deaths_seasonal-adjustment.jpg'))"
   ]
  },
  {
   "cell_type": "markdown",
   "metadata": {},
   "source": [
    "### Births  "
   ]
  },
  {
   "cell_type": "code",
   "execution_count": null,
   "metadata": {},
   "outputs": [],
   "source": [
    "sa_births = sm.tsa.seasonal_decompose(oc_df.births, model = 'multiplicative')\n",
    "\n",
    "# Extract the trend and seasonal components\n",
    "births_trend = sa_births.trend\n",
    "births_seasonal = sa_births.seasonal\n",
    "\n",
    "# Construct the seasonally adjusted series\n",
    "births_adjusted = (oc_df.births / sa_births.seasonal).rename('sa_births')\n",
    "\n",
    "# Plot\n",
    "fig = plt.figure(figsize = (20, 10))\n",
    "plt.plot(births_adjusted, c = 'steelblue', label = 'Seasonally adjusted', linewidth = 2)\n",
    "plt.plot(oc_df['births'], c = 'lightblue', label = 'Births', linewidth = 2, linestyle = '--')\n",
    "plt.title('Seasonal Adjustment of Births', fontsize = 20)\n",
    "plt.legend(fontsize = 15)\n",
    "\n",
    "# Save figure into the results folder\n",
    "plt.savefig(os.path.join(RESULTS_PATH, 'births_seasonal-adjustment.jpg'))"
   ]
  },
  {
   "cell_type": "code",
   "execution_count": null,
   "metadata": {},
   "outputs": [],
   "source": [
    "oc_df['sa_deaths'] = deaths_adjusted\n",
    "oc_df['sa_births'] = births_adjusted\n",
    "\n",
    "# Redo earlier plot\n",
    "fig = plt.figure(figsize = (20, 10))\n",
    "plt.plot(oc_df['sa_births'], label = 'Births', c = 'darkolivegreen', linewidth = 2)\n",
    "plt.plot(oc_df['sa_deaths'], label = 'Deaths', c = 'indianred', linewidth = 2)\n",
    "plt.axvline(x=pd.to_datetime('2020/03/01', format='%Y/%m/%d'), c = 'slategray', linestyle = '--', label = 'Pandemic starts')\n",
    "plt.xlabel('Date (by month)', fontsize = 12)\n",
    "plt.ylabel('Count', fontsize = 12)\n",
    "plt.title('Orange County, California:\\nSeasonally-adjusted Monthly Fertility and Non-COVID Deaths', fontsize = 20)\n",
    "plt.legend(fontsize = 15)\n",
    "\n",
    "# Save figure into the results folder\n",
    "plt.savefig(os.path.join(RESULTS_PATH, 'oc_adjusted_fertility-non-covid-deaths.jpg'))"
   ]
  },
  {
   "cell_type": "markdown",
   "metadata": {},
   "source": [
    "### Suicides and Accidents  \n",
    "There did not seem to be seasonality associated with accidents and suicides."
   ]
  },
  {
   "cell_type": "code",
   "execution_count": null,
   "metadata": {},
   "outputs": [],
   "source": [
    "# sa_accidents = sm.tsa.seasonal_decompose(oc_df['accidents'].loc[oc_df['accidents'].notna()], model='multiplicative')\n",
    "# sa_suicide = sm.tsa.seasonal_decompose(oc_df['suicide'].loc[oc_df['suicide'].notna()], model='multiplicative')\n",
    "# # Construct the seasonally adjusted series\n",
    "# accidents_adjusted = (oc_df.accidents / sa_accidents.seasonal).rename('sa_accidents')\n",
    "# suicides_adjusted = (oc_df.suicide / sa_suicide.seasonal).rename('sa_suicides')\n",
    "\n",
    "# oc_df['sa_accidents'] = accidents_adjusted\n",
    "# oc_df['sa_suicide'] = suicides_adjusted\n",
    "\n",
    "# # Plot\n",
    "# fig = plt.figure(figsize = (20, 10))\n",
    "# plt.plot(oc_df['sa_accidents'], label = 'Accidents', c = 'steelblue', linewidth = 2)\n",
    "# plt.plot(oc_df['accidents'], label = 'Accidents', c = 'lightblue', linewidth = 2, linestyle = '--')\n",
    "# plt.plot(oc_df['sa_suicide'], label = 'Suicides', c = 'forestgreen', linewidth = 2)\n",
    "# plt.plot(oc_df['sa_suicide'], label = 'Suicides', c = 'lightgreen', linewidth = 2, linestyle = '--')\n",
    "# plt.axvline(x=pd.to_datetime('2020/03/01', format='%Y/%m/%d'), c = 'slategray', linestyle = '--', label = 'Pandemic')\n",
    "# plt.xlabel('Date (by month)', fontsize = 12)\n",
    "# plt.ylabel('Count', fontsize = 12)\n",
    "# plt.title('Orange County, California:\\nSeasonally-Adjusted Deaths by Cause', fontsize = 20)\n",
    "# plt.legend(fontsize = 15)\n",
    "\n",
    "# # Save figure into the results folder\n",
    "# plt.savefig(os.path.join(RESULTS_PATH, 'oc_sa_accidents-suicide.jpg'))"
   ]
  },
  {
   "cell_type": "code",
   "execution_count": null,
   "metadata": {},
   "outputs": [],
   "source": [
    "# Write data with seasonal adjustments to csv assuming running from src folder\n",
    "oc_df.to_csv(os.path.join(CLEAN_DATA_PATH, 'oc_seasonally-adjusted_covid-cases-deaths_births_deaths.csv'), index = False)"
   ]
  },
  {
   "cell_type": "markdown",
   "metadata": {},
   "source": [
    "## Statistical Analysis  \n",
    "### Deaths"
   ]
  },
  {
   "cell_type": "code",
   "execution_count": null,
   "metadata": {},
   "outputs": [],
   "source": [
    "import scipy.stats as stats\n",
    "\n",
    "# Overall deaths\n",
    "pre_pan_deaths = oc_df.loc[~oc_df['pandemic'], 'sa_deaths']\n",
    "pan_deaths = oc_df.loc[oc_df['pandemic'], 'sa_deaths']\n",
    "print('Overall deaths did not change during the pandemic: ', str(stats.ttest_ind(pre_pan_deaths, pan_deaths, equal_var=False)))\n",
    "\n",
    "# Accidents\n",
    "pre_pan_acc = oc_df.loc[~oc_df['pandemic'], 'accidents']\n",
    "pan_acc = oc_df.loc[oc_df['pandemic'], 'accidents']\n",
    "print('Overall accidents did not change during the pandemic: ', str(stats.ttest_ind(pre_pan_acc, pan_acc, equal_var=False, nan_policy='omit')))\n",
    "\n",
    "# Suicide\n",
    "pre_pan_sui = oc_df.loc[~oc_df['pandemic'], 'suicide']\n",
    "pan_sui = oc_df.loc[(oc_df['pandemic']) & (oc_df['suicide'].notna()), 'suicide']\n",
    "print('Overall suicides did not change during the pandemic: ', str(stats.ttest_ind(pre_pan_sui, pan_sui, equal_var=False)))"
   ]
  },
  {
   "cell_type": "code",
   "execution_count": null,
   "metadata": {},
   "outputs": [],
   "source": [
    "import researchpy as rp"
   ]
  },
  {
   "cell_type": "code",
   "execution_count": null,
   "metadata": {},
   "outputs": [],
   "source": [
    "print(\n",
    "    rp.ttest(pre_pan_deaths, pan_deaths, group1_name='Pre-Pandemic Deaths', group2_name='Pandemic Deaths', equal_variances=False)\n",
    ")\n",
    "print(\n",
    "    rp.ttest(pre_pan_acc, pan_acc, group1_name='Pre-Pandemic Accidents', group2_name='Pandemic Accidents', equal_variances=False)\n",
    ")\n",
    "print(\n",
    "    rp.ttest(pre_pan_sui, pan_sui, group1_name='Pre-Pandemic Suicides', group2_name='Pandemic Suicides', equal_variances=False)\n",
    ")"
   ]
  },
  {
   "cell_type": "markdown",
   "metadata": {},
   "source": [
    "### Births  \n",
    "Because people can't immediately control the number of births, need to change the `pandemic` boolean."
   ]
  },
  {
   "cell_type": "code",
   "execution_count": null,
   "metadata": {},
   "outputs": [],
   "source": [
    "oc_df['pandemic_fertility'] = oc_df.index >= '2021-01-01'\n",
    "pre_pan_fert = oc_df.loc[~oc_df['pandemic_fertility'], 'sa_births']\n",
    "pan_fert = oc_df.loc[oc_df['pandemic_fertility'], 'sa_births']\n",
    "print(\n",
    "    rp.ttest(pre_pan_fert, pan_fert, group1_name='Pre-Pandemic Births', group2_name='Pandemic Births', equal_variances=False)\n",
    ")"
   ]
  }
 ],
 "metadata": {
  "kernelspec": {
   "display_name": "Python 3",
   "language": "python",
   "name": "python3"
  },
  "language_info": {
   "codemirror_mode": {
    "name": "ipython",
    "version": 3
   },
   "file_extension": ".py",
   "mimetype": "text/x-python",
   "name": "python",
   "nbconvert_exporter": "python",
   "pygments_lexer": "ipython3",
   "version": "3.8.5"
  }
 },
 "nbformat": 4,
 "nbformat_minor": 4
}
